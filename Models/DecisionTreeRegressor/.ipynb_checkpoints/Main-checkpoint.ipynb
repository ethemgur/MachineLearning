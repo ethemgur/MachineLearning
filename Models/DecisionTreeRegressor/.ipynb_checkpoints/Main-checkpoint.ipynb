{
 "cells": [
  {
   "cell_type": "code",
   "execution_count": 1,
   "metadata": {},
   "outputs": [],
   "source": [
    "import numpy as np\n",
    "import matplotlib.pyplot as plt\n",
    "from operator import itemgetter\n",
    "\n",
    "train_size = 150\n",
    "data = np.genfromtxt('data_set.csv', delimiter=',', skip_header=1)\n",
    "x_train = data[:train_size, 0]\n",
    "y_train = data[:train_size, 1]\n",
    "x_test = data[train_size:, 0]\n",
    "y_test = data[train_size:, 1]"
   ]
  },
  {
   "cell_type": "code",
   "execution_count": 2,
   "metadata": {},
   "outputs": [],
   "source": [
    "def get_split_score(nodes):\n",
    "    return sum(np.sum(np.square(np.mean(y_train[i]) - y_train[i])) for i in nodes)\n",
    "\n",
    "def get_error(y, y_pred, p):\n",
    "    error = round(np.sqrt(np.mean(np.square(y - np.array(y_pred)))), 4)\n",
    "    print('RMSE for {} is {}'.format(p, error))\n",
    "    return error"
   ]
  },
  {
   "cell_type": "code",
   "execution_count": 3,
   "metadata": {},
   "outputs": [
    {
     "name": "stdout",
     "output_type": "stream",
     "text": [
      "RMSE for 25 is 6.4541\n"
     ]
    },
    {
     "data": {
      "text/plain": [
       "6.4541"
      ]
     },
     "execution_count": 3,
     "metadata": {},
     "output_type": "execute_result"
    }
   ],
   "source": [
    "def model(x, p):\n",
    "    node_indices = {}\n",
    "    is_terminal = {}\n",
    "    need_split = {}\n",
    "\n",
    "    node_splits = {}\n",
    "    node_means = {}\n",
    "\n",
    "    node_indices[0] = np.array(range(train_size))\n",
    "    is_terminal[0] = False\n",
    "    need_split[0] = True\n",
    "\n",
    "    while True:\n",
    "        split_nodes = [k for k, v in need_split.items() if v]\n",
    "\n",
    "        if not split_nodes:\n",
    "            break\n",
    "\n",
    "        for node in split_nodes:\n",
    "            data_indices = node_indices[node]\n",
    "            need_split[node] = False\n",
    "            node_means[node] = np.mean(y_train[data_indices])\n",
    "\n",
    "            if len(data_indices) <= p:\n",
    "                is_terminal[node] = True\n",
    "            else:\n",
    "                is_terminal[node] = False\n",
    "\n",
    "                values = np.sort(np.unique(x_train[data_indices]))\n",
    "                split_positions = (values[:-1] + values[1:]) / 2\n",
    "                split_scores = [get_split_score((data_indices[x_train[data_indices] <= split], data_indices[x_train[data_indices] > split]))\n",
    "                               for split in split_positions]\n",
    "                \n",
    "                best_score = min(split_scores)\n",
    "                best_split = split_positions[split_scores.index(best_score)]\n",
    "                node_splits[node] = best_split\n",
    "\n",
    "                left_indices = data_indices[x_train[data_indices] <= best_split]\n",
    "                node_indices[2 * node + 1] = left_indices\n",
    "                is_terminal[2 * node + 1] = False\n",
    "                need_split[2 * node + 1] = True\n",
    "\n",
    "                right_indices = data_indices[x_train[data_indices] > best_split]\n",
    "                node_indices[2 * node + 2] = right_indices\n",
    "                is_terminal[2 * node + 2] = False\n",
    "                need_split[2 * node + 2] = True\n",
    "\n",
    "    y_pred = []\n",
    "    for i in range(len(x)):\n",
    "        index = 0\n",
    "        while 1:\n",
    "            if is_terminal[index] == True:\n",
    "                y_pred.append(node_means[index])\n",
    "                break\n",
    "            else:\n",
    "                if x[i] <= node_splits[index]:\n",
    "                    index = index * 2 + 1\n",
    "                else:\n",
    "                    index = index * 2 + 2\n",
    "    \n",
    "    return np.array(y_pred)\n",
    "\n",
    "get_error(y_test, model(x_test, 25), 25)"
   ]
  },
  {
   "cell_type": "code",
   "execution_count": 4,
   "metadata": {},
   "outputs": [
    {
     "name": "stdout",
     "output_type": "stream",
     "text": [
      "RMSE for 5 is 7.8576\n",
      "RMSE for 10 is 7.0516\n",
      "RMSE for 15 is 6.7051\n",
      "RMSE for 20 is 6.7142\n",
      "RMSE for 25 is 6.4541\n",
      "RMSE for 30 is 6.4916\n",
      "RMSE for 35 is 6.1621\n",
      "RMSE for 40 is 6.2508\n",
      "RMSE for 45 is 6.3283\n",
      "RMSE for 50 is 6.3283\n"
     ]
    },
    {
     "data": {
      "text/plain": [
       "<matplotlib.collections.PathCollection at 0x7ff538324908>"
      ]
     },
     "execution_count": 4,
     "metadata": {},
     "output_type": "execute_result"
    },
    {
     "data": {
      "image/png": "[encoded data removed]",
      "text/plain": [
       "<Figure size 432x288 with 1 Axes>"
      ]
     },
     "metadata": {
      "needs_background": "light"
     },
     "output_type": "display_data"
    }
   ],
   "source": [
    "errors = [get_error(y_test, model(x_test, p), p) for p in range(5, 51, 5)]\n",
    "plt.scatter(range(5, 51, 5), errors)"
   ]
  },
  {
   "cell_type": "code",
   "execution_count": 5,
   "metadata": {},
   "outputs": [
    {
     "data": {
      "text/plain": [
       "[<matplotlib.lines.Line2D at 0x7ff5380b2a90>]"
      ]
     },
     "execution_count": 5,
     "metadata": {},
     "output_type": "execute_result"
    },
    {
     "data": {
      "image/png": "[encoded data removed]",
      "text/plain": [
       "<Figure size 432x288 with 1 Axes>"
      ]
     },
     "metadata": {
      "needs_background": "light"
     },
     "output_type": "display_data"
    }
   ],
   "source": [
    "x_plot = np.arange(min(data[:, 0]),max(data[:, 0]),0.001)\n",
    "y_plot = model(x_plot, 25)\n",
    "\n",
    "plt.scatter(x_train, y_train, color='b')\n",
    "plt.scatter(x_test, y_test, color='r')\n",
    "plt.plot(x_plot, y_plot)"
   ]
  },
  {
   "cell_type": "code",
   "execution_count": null,
   "metadata": {},
   "outputs": [],
   "source": []
  }
 ],
 "metadata": {
  "kernelspec": {
   "display_name": "Python 3",
   "language": "python",
   "name": "python3"
  },
  "language_info": {
   "codemirror_mode": {
    "name": "ipython",
    "version": 3
   },
   "file_extension": ".py",
   "mimetype": "text/x-python",
   "name": "python",
   "nbconvert_exporter": "python",
   "pygments_lexer": "ipython3",
   "version": "3.6.9"
  }
 },
 "nbformat": 4,
 "nbformat_minor": 2
}
