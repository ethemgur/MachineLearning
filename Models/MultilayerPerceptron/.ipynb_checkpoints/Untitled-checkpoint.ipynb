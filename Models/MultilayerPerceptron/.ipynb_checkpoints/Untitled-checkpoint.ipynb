{
 "cells": [
  {
   "cell_type": "code",
   "execution_count": 35,
   "metadata": {},
   "outputs": [
    {
     "data": {
      "text/plain": [
       "[<matplotlib.lines.Line2D at 0x7fd66b57dcf8>]"
      ]
     },
     "execution_count": 35,
     "metadata": {},
     "output_type": "execute_result"
    },
    {
     "data": {
      "image/png": "[encoded data removed]",
      "text/plain": [
       "<matplotlib.figure.Figure at 0x7fd673a24080>"
      ]
     },
     "metadata": {
      "needs_background": "light"
     },
     "output_type": "display_data"
    }
   ],
   "source": [
    "import matplotlib.pyplot as plt\n",
    "%matplotlib inline\n",
    "\n",
    "plt.plot(objective_values)"
   ]
  },
  {
   "cell_type": "code",
   "execution_count": 41,
   "metadata": {},
   "outputs": [
    {
     "name": "stderr",
     "output_type": "stream",
     "text": [
      "  3%|▎         | 17/500 [00:00<00:02, 168.61it/s]"
     ]
    },
    {
     "name": "stdout",
     "output_type": "stream",
     "text": [
      "[[0.1989721  0.1980689  0.2010442  0.20178484 0.20012997]\n",
      " [0.19895471 0.19805096 0.20104471 0.20178756 0.20016206]\n",
      " [0.19887752 0.19793973 0.20105278 0.20183531 0.20029465]\n",
      " ...\n",
      " [0.19879896 0.19803261 0.20110416 0.20187121 0.20019305]\n",
      " [0.19889451 0.19800053 0.20102769 0.20187145 0.20020582]\n",
      " [0.19884898 0.19803485 0.20112344 0.20180226 0.20019046]]\n"
     ]
    },
    {
     "name": "stderr",
     "output_type": "stream",
     "text": [
      "100%|██████████| 500/500 [00:02<00:00, 167.05it/s]"
     ]
    },
    {
     "name": "stdout",
     "output_type": "stream",
     "text": [
      "[[101   0   6   0   0]\n",
      " [  1  82   3   0   0]\n",
      " [  4   0 108   0   0]\n",
      " [  0   0   0 100   0]\n",
      " [  0   0   0   0  95]]\n",
      "[[ 84   0  13   0   2]\n",
      " [  1  87   3   0   0]\n",
      " [  2   1 101   0   1]\n",
      " [  0   0   0 103   0]\n",
      " [  2   0   2   1  97]]\n"
     ]
    },
    {
     "name": "stderr",
     "output_type": "stream",
     "text": [
      "\n"
     ]
    }
   ],
   "source": [
    "import numpy as np\n",
    "from sklearn.metrics import confusion_matrix\n",
    "import tqdm\n",
    "\n",
    "data_x = np.genfromtxt('hw03_images.csv', delimiter=',')\n",
    "data_y = np.genfromtxt('hw03_labels.csv', delimiter=',').astype(int)\n",
    "data_y = np.eye(np.max(data_y))[(data_y-1).tolist()]\n",
    "\n",
    "train_size = 500\n",
    "train_x = data_x[:train_size]\n",
    "train_y = data_y[:train_size]\n",
    "\n",
    "n, d = train_x.shape\n",
    "\n",
    "safelog = lambda a: np.log(a + 1e-100)\n",
    "sigmoid = lambda a: 1 / (1 + np.exp(-a))\n",
    "softmax = lambda mz, mv: np.exp(mz.dot(mv)) / np.sum(np.exp(mz.dot(mv)), axis=1)[:, None]\n",
    "\n",
    "eta = 5e-4\n",
    "epsilon = 1e-3\n",
    "h = 20\n",
    "max_iteration = 500\n",
    "\n",
    "v = np.genfromtxt('initial_V.csv', delimiter=',')\n",
    "w = np.genfromtxt('initial_W.csv', delimiter=',')\n",
    "\n",
    "z = sigmoid(np.c_[np.ones(n), train_x].dot(w))\n",
    "#y_pred = sigmoid(np.c_[np.ones(n), z].dot(v))\n",
    "y_pred = softmax(np.c_[np.ones(n), z], v)\n",
    "#objective_values = [-0.5*np.sum(train_y * safelog(y_pred) + (1 - train_y) * safelog(1 - y_pred))]\n",
    "objective_values = [-np.sum(train_y * safelog(y_pred))]\n",
    "print(y_pred)\n",
    "for iteration in tqdm.tqdm(range(max_iteration)):\n",
    "  delta_v = eta * (np.c_[np.ones(n), z]).T.dot(train_y - y_pred)\n",
    "  a = train_y - y_pred\n",
    "  b = np.c_[np.ones(n), train_x]\n",
    "  c = z * (1 - z)\n",
    "  delta_w = eta * b.T.dot(a.dot(v[1:].T) * c)\n",
    "\n",
    "  v += delta_v\n",
    "  w += delta_w\n",
    "\n",
    "  z = sigmoid(np.c_[np.ones(n), train_x].dot(w))\n",
    "  y_pred = softmax(np.c_[np.ones(n), z], v)\n",
    "\n",
    "  objective_values.append(-np.sum(train_y * safelog(y_pred)))\n",
    "  if np.abs(objective_values[-1] - objective_values[-2]) < epsilon:\n",
    "    pass\n",
    "\n",
    "\n",
    "print(confusion_matrix(np.argmax(train_y, axis=1), np.argmax(y_pred, axis=1)))\n",
    "\n",
    "test_x = data_x[train_size:]\n",
    "test_y =data_y[train_size:]\n",
    "\n",
    "z = sigmoid(np.c_[np.ones(n), test_x].dot(w))\n",
    "test_y_pred = sigmoid(np.c_[np.ones(n), z].dot(v))\n",
    "\n",
    "print(confusion_matrix(np.argmax(test_y, axis=1), np.argmax(test_y_pred, axis=1)))\n"
   ]
  },
  {
   "cell_type": "code",
   "execution_count": 17,
   "metadata": {},
   "outputs": [
    {
     "data": {
      "text/plain": [
       "((500, 5), (500, 785), (500, 20), (785, 20), (21, 5))"
      ]
     },
     "execution_count": 17,
     "metadata": {},
     "output_type": "execute_result"
    }
   ],
   "source": [
    "a.shape, b.shape, z.shape, w.shape, v.shape"
   ]
  },
  {
   "cell_type": "code",
   "execution_count": 40,
   "metadata": {},
   "outputs": [
    {
     "name": "stdout",
     "output_type": "stream",
     "text": [
      "\n",
      "\n",
      "===== Train Accuracy =====\n",
      "\n",
      "[[101   0   6   0   0]\n",
      " [  1  82   3   0   0]\n",
      " [  4   0 108   0   0]\n",
      " [  0   0   0 100   0]\n",
      " [  0   0   0   0  95]]\n",
      "\n",
      "\n",
      "===== Test Accuracy =====\n",
      "\n",
      "[[ 84   0  13   0   2]\n",
      " [  1  87   3   0   0]\n",
      " [  2   1 101   0   1]\n",
      " [  0   0   0 103   0]\n",
      " [  2   0   2   1  97]]\n"
     ]
    },
    {
     "data": {
      "image/png": "[encoded data removed]",
      "text/plain": [
       "<matplotlib.figure.Figure at 0x7fd66b2fd128>"
      ]
     },
     "metadata": {
      "needs_background": "light"
     },
     "output_type": "display_data"
    }
   ],
   "source": [
    "%run 'hw03_batch.py'"
   ]
  }
 ],
 "metadata": {
  "kernelspec": {
   "display_name": "Python 3",
   "language": "python",
   "name": "python3"
  },
  "language_info": {
   "codemirror_mode": {
    "name": "ipython",
    "version": 3
   },
   "file_extension": ".py",
   "mimetype": "text/x-python",
   "name": "python",
   "nbconvert_exporter": "python",
   "pygments_lexer": "ipython3",
   "version": "3.6.8"
  }
 },
 "nbformat": 4,
 "nbformat_minor": 2
}
